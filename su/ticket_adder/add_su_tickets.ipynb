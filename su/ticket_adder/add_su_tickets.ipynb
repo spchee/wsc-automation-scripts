{
 "cells": [
  {
   "cell_type": "code",
   "execution_count": 1,
   "metadata": {},
   "outputs": [
    {
     "name": "stderr",
     "output_type": "stream",
     "text": [
      "/usr/lib/python3/dist-packages/requests/__init__.py:89: RequestsDependencyWarning: urllib3 (1.26.11) or chardet (3.0.4) doesn't match a supported version!\n",
      "  warnings.warn(\"urllib3 ({}) or chardet ({}) doesn't match a supported \"\n",
      "/tmp/ipykernel_28269/869138682.py:6: DeprecationWarning: executable_path has been deprecated, please pass in a Service object\n",
      "  browser  = webdriver.Chrome(ChromeDriverManager().install())\n"
     ]
    }
   ],
   "source": [
    "#setup\n",
    "from selenium import webdriver\n",
    "from selenium.webdriver.common.by import By\n",
    "from webdriver_manager.chrome import ChromeDriverManager\n",
    "import time\n",
    "browser  = webdriver.Chrome(ChromeDriverManager().install())"
   ]
  },
  {
   "cell_type": "code",
   "execution_count": 9,
   "metadata": {},
   "outputs": [
    {
     "name": "stdout",
     "output_type": "stream",
     "text": [
      "{'Everything Everywhere All At Once': ['15:00', nan, '18:00', nan, '21:00', nan], 'Elvis': ['15:00', nan], 'Bullet Train': ['18:00', nan], 'Casino Royale': ['21:00', nan], 'Dr Strange: In the Multiverse of Madness': ['15:00', nan], 'Princess Mononoke': ['18:00', nan], 'Pulp Fiction': ['21:00', nan], 'Thor: Love and Thunder': ['15:00', nan, '15:00', nan], 'Minions 2: Rise of Gru': ['18:00', nan], 'Jurassic Park': ['21:00', nan], 'Top Gun Maverick': ['15:00', nan], 'Gone Girl': ['18:00', nan], 'Interstellar': ['21:00', nan], 'FREE FOR MEMBERS: Legally Blonde': ['18:00', nan], 'Nope': ['21:00', nan, '21:00', nan], 'Booksmart': ['15:00', nan], 'Drive': ['18:00', nan], nan: ['18:30', nan, '18:30', nan, '18:30', nan, '18:30', nan, '19:30', nan, '19:30', nan, '19:30', nan, '19:30', nan, '18:30', nan, '18:30', nan, '18:30', nan, '19:30', nan, '19:30', nan, '19:30', nan, '18:30', nan, '18:30', nan, '18:30', nan, '19:30', nan, '19:30', nan, '19:30', nan, '18:30', nan, '18:30', nan, '18:30', nan, '19:30', nan, '18:30', nan, '19:30', nan, '18:30', nan, '21:30', nan, 'Midnight', nan, '18:30', nan, '19:30', nan, '19:30', nan, '19:30', nan, '18:30', nan, '18:30', nan, '18:30', nan, '18:30', nan, '19:30', nan, nan, nan]}\n"
     ]
    }
   ],
   "source": [
    "import pandas as pd\n",
    "df = pd.read_csv('tabula.csv')\n",
    "#delete all columns except date, times, film type, film title\n",
    "df = df[['Date', 'Film', 'Time', 'Time (2nd show)']]\n",
    "\n",
    "#convert into dictionary with film as the key with multiple possible times as values\n",
    "film_dict = {}\n",
    "for index, row in df.iterrows():\n",
    "    film = row['Film']\n",
    "    time = row['Time']\n",
    "    time2 = row['Time (2nd show)']\n",
    "    if film not in film_dict:\n",
    "        film_dict[film] = [time, time2]\n",
    "    else:\n",
    "        film_dict[film].append(time)\n",
    "        film_dict[film].append(time2)\n",
    "print(film_dict)"
   ]
  },
  {
   "cell_type": "code",
   "execution_count": 2,
   "metadata": {},
   "outputs": [
    {
     "name": "stdout",
     "output_type": "stream",
     "text": [
      "[{'domain': '.warwicksu.com', 'expiry': 1660062905, 'httpOnly': False, 'name': '_gat', 'path': '/', 'secure': False, 'value': '1'}, {'domain': 'www.warwicksu.com', 'httpOnly': True, 'name': '.AspNet.SharedCookie', 'path': '/', 'secure': True, 'value': 'CfDJ8JVR4eL4etFPoGRhWTTSBtBueyZ7bEdQrO_EtD6uxZgPm8DycupcMWdL4oRUgeGK2X9MOmacwus5IU3AFEInZzsJHaR4_LbnQIkouVTZKcqVolCKyTJBPDmjZXC9o4Knl3K5FfrC7YvTzM0f0lq_28-7L4bnF6yIxM1QbG0HdfAerpb7pGmDiMcnGC-iuWh6KfkCA8PrbEzQQUXSFAxKp6P7Pl2o0XYvHWfk_bMquBzrTGwQ4SLMdO-wdapbmrvjYufGIoLG-XxidCfAFpMxsmH_0X9HA8SltCNKG7WZzZhgO_a3mjpu1LXkKL4yHv9BHXPV8HP2E-kP5GslHzD5ZVZMe7cpxqWSvIZvp8GwMXCpRXKHPtKvV8iOG_sG36zhR0WbxpZZHu9UNUyqLSPZKiDIsU2x0tMr0lUdC7zTeIi3px6uRJ0y9SM5QS0fZKo9lBw3340385tQN2qtojm-Y9KAKLiUKnTfOZxbVZJl-ST5gN6D45OVAegd70MKgHwJbm3yIJ15Nhr1KljHCUkkwiA'}, {'domain': '.warwicksu.com', 'expiry': 1660149245, 'httpOnly': False, 'name': '_gid', 'path': '/', 'secure': False, 'value': 'GA1.2.1706601360.1660062781'}, {'domain': '.warwicksu.com', 'expiry': 1694622845, 'httpOnly': False, 'name': '_ga', 'path': '/', 'secure': False, 'value': 'GA1.2.820767680.1660062781'}, {'domain': 'www.warwicksu.com', 'httpOnly': True, 'name': '_shibsession_7761727769636b68747470733a2f2f7777772e7761727769636b73752e636f6d2f73686962626f6c657468', 'path': '/', 'secure': True, 'value': '_eb1275179361e72fbd43fe45b5783e1a'}, {'domain': 'www.warwicksu.com', 'httpOnly': True, 'name': '__AntiXsrfToken', 'path': '/', 'secure': True, 'value': '4ee6822c25ce4a639342a096470a9208'}, {'domain': 'www.warwicksu.com', 'httpOnly': True, 'name': '.ASPXAUTH', 'path': '/', 'secure': True, 'value': 'F107CD909D62B6921C7E70D193B8DDF2DBB46730F5E5744A65504F77D71B0F83647C39066E6147F3853FAB68E946D559B2FA3B78E9496E722DA2341D8DFDEFE3CC707CA9DE6C5EB9C767E0FB5E684815F0D72B4AA8BF9D55DC91E93295645ED0F27CD404'}, {'domain': 'www.warwicksu.com', 'httpOnly': True, 'name': 'ASP.NET_SessionId', 'path': '/', 'sameSite': 'Lax', 'secure': True, 'value': 'dbrlyuorkyvbzgfacdns0uer'}]\n",
      "valid: <built-in method keys of dict object at 0x7feaba70aa80>\n",
      "valid: <built-in method keys of dict object at 0x7feaba70aec0>\n",
      "valid: <built-in method keys of dict object at 0x7fead001b6c0>\n",
      "valid: <built-in method keys of dict object at 0x7feaba70afc0>\n",
      "valid: <built-in method keys of dict object at 0x7feaba6b1bc0>\n",
      "valid: <built-in method keys of dict object at 0x7feaba70ae00>\n",
      "valid: <built-in method keys of dict object at 0x7feaba6b1340>\n",
      "valid: <built-in method keys of dict object at 0x7feaba6b10c0>\n"
     ]
    }
   ],
   "source": [
    "import pickle\n",
    "import os\n",
    "from time import sleep\n",
    "\n",
    "browser.get('https://www.warwicksu.com/organisation/tickets/4273/')\n",
    "if os.path.exists('cookies.pkl'):\n",
    "    cookies = pickle.load(open(\"cookies.pkl\", \"rb\"))\n",
    "    print(cookies)\n",
    "    for cookie in cookies:\n",
    "        try:\n",
    "            \n",
    "            browser.add_cookie(cookie)\n",
    "            print(\"valid:\", cookie.keys)\n",
    "        except:\n",
    "            print(cookie.keys)\n",
    "    browser.refresh()\n",
    "    sleep(1)\n",
    "    \n",
    "else:\n",
    "    input(\"Please login then press enter to continue...\")\n",
    "    pickle.dump(browser.get_cookies(), open(\"cookies.pkl\", \"wb\"))"
   ]
  },
  {
   "cell_type": "code",
   "execution_count": null,
   "metadata": {},
   "outputs": [],
   "source": [
    "#ctl00_ctl00_Main_AdminPageContent_rptEvents_ctl01_lbAddTicket\n",
    "#ctl00_ctl00_Main_AdminPageContent_rptEvents_ctl01_lbAddTicket\n",
    "\n",
    "ticket_id = \"ctl00_ctl00_Main_AdminPageContent_rptEvents_ctl01_lbAddTicket\"\n",
    "\n",
    "\n",
    "for elem in browser.find_elements(By.ID, ticket_id):\n",
    "    elem.click()\n",
    "    select = browser.find_element(By.ID, \"ctl00_ctl00_Main_AdminPageContent_ddType_dd\")\n",
    "    \n",
    "    #select members\n",
    "    select.select_by_value(\"3\")\n",
    "\n",
    "    browser.find_element(By.ID, \"ctl00_ctl00_Main_AdminPageContent_drOnSale_txtToDate\").send_keys(\"01/01/2020\")\n"
   ]
  },
  {
   "cell_type": "code",
   "execution_count": 3,
   "metadata": {},
   "outputs": [],
   "source": [
    "select = browser.find_element(By.ID, \"ctl00_ctl00_Main_AdminPageContent_ddType_dd\")"
   ]
  },
  {
   "cell_type": "code",
   "execution_count": 4,
   "metadata": {},
   "outputs": [],
   "source": [
    "from selenium.webdriver.support.ui import Select\n",
    "select = Select(select)"
   ]
  },
  {
   "cell_type": "code",
   "execution_count": 45,
   "metadata": {},
   "outputs": [
    {
     "name": "stdout",
     "output_type": "stream",
     "text": [
      "0.45610904693603516\n",
      "9.00PM\n"
     ]
    }
   ],
   "source": [
    "import requests, bs4\n",
    "import time\n",
    "\n",
    "t1 = time.time()\n",
    "res = requests.get('https://www.warwicksu.com/venues-events/events/4273/22863/')\n",
    "noStarchSoup = bs4.BeautifulSoup(res.text)\n",
    "#select class \"date-f\"\n",
    "noStarchSoup = noStarchSoup.select('.date-f')[0].text\n",
    "t2 = time.time()\n",
    "print(t2-t1)\n",
    "print(noStarchSoup)"
   ]
  }
 ],
 "metadata": {
  "kernelspec": {
   "display_name": "Python 2.7.17 64-bit",
   "language": "python",
   "name": "python3"
  },
  "language_info": {
   "codemirror_mode": {
    "name": "ipython",
    "version": 3
   },
   "file_extension": ".py",
   "mimetype": "text/x-python",
   "name": "python",
   "nbconvert_exporter": "python",
   "pygments_lexer": "ipython3",
   "version": "2.7.17"
  },
  "orig_nbformat": 4,
  "vscode": {
   "interpreter": {
    "hash": "767d51c1340bd893661ea55ea3124f6de3c7a262a8b4abca0554b478b1e2ff90"
   }
  }
 },
 "nbformat": 4,
 "nbformat_minor": 2
}
