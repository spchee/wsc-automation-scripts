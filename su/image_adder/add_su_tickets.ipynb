{
 "cells": [
  {
   "cell_type": "code",
   "execution_count": 53,
   "metadata": {},
   "outputs": [
    {
     "name": "stderr",
     "output_type": "stream",
     "text": [
      "/tmp/ipykernel_434660/869138682.py:6: DeprecationWarning: executable_path has been deprecated, please pass in a Service object\n",
      "  browser  = webdriver.Chrome(ChromeDriverManager().install())\n"
     ]
    }
   ],
   "source": [
    "#setup\n",
    "from selenium import webdriver\n",
    "from selenium.webdriver.common.by import By\n",
    "from webdriver_manager.chrome import ChromeDriverManager\n",
    "import time\n",
    "browser  = webdriver.Chrome(ChromeDriverManager().install())"
   ]
  },
  {
   "cell_type": "code",
   "execution_count": null,
   "metadata": {},
   "outputs": [],
   "source": [
    "import pandas as pd\n",
    "df = pd.read_csv('tabula.csv')\n",
    "#delete all columns except date, times, film type, film title\n",
    "df = df[['Date', 'Film', 'Time', 'Time (2nd show)']]\n",
    "\n",
    "#convert into dictionary with film as the key with multiple possible times as values\n",
    "film_dict = {}\n",
    "for index, row in df.iterrows():\n",
    "    film = row['Film']\n",
    "    time = row['Time']\n",
    "    time2 = row['Time (2nd show)']\n",
    "    if film not in film_dict:\n",
    "        film_dict[film] = [time, time2]\n",
    "    else:\n",
    "        film_dict[film].append(time)\n",
    "        film_dict[film].append(time2)\n",
    "print(film_dict)"
   ]
  },
  {
   "cell_type": "code",
   "execution_count": 54,
   "metadata": {},
   "outputs": [
    {
     "name": "stdout",
     "output_type": "stream",
     "text": [
      "[{'domain': '.warwicksu.com', 'expiry': 1660062905, 'httpOnly': False, 'name': '_gat', 'path': '/', 'secure': False, 'value': '1'}, {'domain': 'www.warwicksu.com', 'httpOnly': True, 'name': '.AspNet.SharedCookie', 'path': '/', 'secure': True, 'value': 'CfDJ8JVR4eL4etFPoGRhWTTSBtBueyZ7bEdQrO_EtD6uxZgPm8DycupcMWdL4oRUgeGK2X9MOmacwus5IU3AFEInZzsJHaR4_LbnQIkouVTZKcqVolCKyTJBPDmjZXC9o4Knl3K5FfrC7YvTzM0f0lq_28-7L4bnF6yIxM1QbG0HdfAerpb7pGmDiMcnGC-iuWh6KfkCA8PrbEzQQUXSFAxKp6P7Pl2o0XYvHWfk_bMquBzrTGwQ4SLMdO-wdapbmrvjYufGIoLG-XxidCfAFpMxsmH_0X9HA8SltCNKG7WZzZhgO_a3mjpu1LXkKL4yHv9BHXPV8HP2E-kP5GslHzD5ZVZMe7cpxqWSvIZvp8GwMXCpRXKHPtKvV8iOG_sG36zhR0WbxpZZHu9UNUyqLSPZKiDIsU2x0tMr0lUdC7zTeIi3px6uRJ0y9SM5QS0fZKo9lBw3340385tQN2qtojm-Y9KAKLiUKnTfOZxbVZJl-ST5gN6D45OVAegd70MKgHwJbm3yIJ15Nhr1KljHCUkkwiA'}, {'domain': '.warwicksu.com', 'expiry': 1660149245, 'httpOnly': False, 'name': '_gid', 'path': '/', 'secure': False, 'value': 'GA1.2.1706601360.1660062781'}, {'domain': '.warwicksu.com', 'expiry': 1694622845, 'httpOnly': False, 'name': '_ga', 'path': '/', 'secure': False, 'value': 'GA1.2.820767680.1660062781'}, {'domain': 'www.warwicksu.com', 'httpOnly': True, 'name': '_shibsession_7761727769636b68747470733a2f2f7777772e7761727769636b73752e636f6d2f73686962626f6c657468', 'path': '/', 'secure': True, 'value': '_eb1275179361e72fbd43fe45b5783e1a'}, {'domain': 'www.warwicksu.com', 'httpOnly': True, 'name': '__AntiXsrfToken', 'path': '/', 'secure': True, 'value': '4ee6822c25ce4a639342a096470a9208'}, {'domain': 'www.warwicksu.com', 'httpOnly': True, 'name': '.ASPXAUTH', 'path': '/', 'secure': True, 'value': 'F107CD909D62B6921C7E70D193B8DDF2DBB46730F5E5744A65504F77D71B0F83647C39066E6147F3853FAB68E946D559B2FA3B78E9496E722DA2341D8DFDEFE3CC707CA9DE6C5EB9C767E0FB5E684815F0D72B4AA8BF9D55DC91E93295645ED0F27CD404'}, {'domain': 'www.warwicksu.com', 'httpOnly': True, 'name': 'ASP.NET_SessionId', 'path': '/', 'sameSite': 'Lax', 'secure': True, 'value': 'dbrlyuorkyvbzgfacdns0uer'}]\n",
      "valid: <built-in method keys of dict object at 0x7fb6b56b9680>\n",
      "valid: <built-in method keys of dict object at 0x7fb6b56b9600>\n",
      "valid: <built-in method keys of dict object at 0x7fb6b5832c80>\n",
      "valid: <built-in method keys of dict object at 0x7fb6b58d1d40>\n",
      "valid: <built-in method keys of dict object at 0x7fb6b55da880>\n",
      "valid: <built-in method keys of dict object at 0x7fb6b5531c80>\n",
      "valid: <built-in method keys of dict object at 0x7fb6b55cea00>\n",
      "valid: <built-in method keys of dict object at 0x7fb6b55ce700>\n"
     ]
    }
   ],
   "source": [
    "import pickle\n",
    "import os\n",
    "from time import sleep\n",
    "\n",
    "browser.get('https://www.warwicksu.com/Controls/AssetUploader/AssetBrowser.aspx?asset_type=event&context_id=4273&file_type=image')\n",
    "if os.path.exists('cookies.pkl'):\n",
    "    cookies = pickle.load(open(\"cookies.pkl\", \"rb\"))\n",
    "    print(cookies)\n",
    "    for cookie in cookies:\n",
    "        try:\n",
    "            \n",
    "            browser.add_cookie(cookie)\n",
    "            print(\"valid:\", cookie.keys)\n",
    "        except:\n",
    "            print(cookie.keys)\n",
    "    browser.refresh()\n",
    "    sleep(1)\n",
    "    \n",
    "else:\n",
    "    input(\"Please login then press enter to continue...\")\n",
    "    pickle.dump(browser.get_cookies(), open(\"cookies.pkl\", \"wb\"))"
   ]
  },
  {
   "cell_type": "code",
   "execution_count": null,
   "metadata": {},
   "outputs": [],
   "source": [
    "#browser.get('https://www.warwicksu.com/Controls/AssetUploader/AssetBrowser.aspx?asset_type=event&context_id=4273&file_type=image')\n",
    "#choose files for id ctl00_cphBodyContent_AssetBrowser_fileAsset\n"
   ]
  },
  {
   "cell_type": "code",
   "execution_count": 56,
   "metadata": {},
   "outputs": [],
   "source": [
    "import shutil\n",
    "import requests\n",
    "import wget\n",
    "from selenium.webdriver.common.keys import Keys\n",
    "global api_key\n",
    "api_key =  \"e1312db930d5093c3c7ea7149c644d46\"\n",
    "\n",
    "#get amd dpwm\n",
    "def getTmdbImageUrl(film_title):\n",
    "    global api_key\n",
    "    film_title = film_title.replace(\" \", \"+\")\n",
    "    url = \"https://api.themoviedb.org/3/search/movie?api_key=\" + api_key + \"&language=en-US\" + \"&query=\" + film_title\n",
    "    response = requests.get(url)\n",
    "    data = response.json()\n",
    "    if len(data['results']) > 0:\n",
    "        return f\"https://image.tmdb.org/t/p/original{data['results'][0]['backdrop_path']}\"\n",
    "    else:\n",
    "         return None\n",
    "    \n",
    "    #download url\n",
    "    \n",
    "def downloadImageUrl(url, filename):\n",
    "    wget.download(url, filename)\n",
    "    \n",
    "#find all elements with class msl_row or msl_altrow\n",
    "def getTitles():\n",
    "    browser.get(\"https://www.warwicksu.com/events/edit/4273/\")\n",
    "    input(\"select date range of films you want to add images to\")\n",
    "    titles = browser.find_elements(By.CLASS_NAME,'msl_row')\n",
    "    titles.extend(browser.find_elements(By.CLASS_NAME,'msl_altrow'))\n",
    "    return list(map(lambda x: ' '.join(x.text.split()[3:-6]), titles))\n",
    "\n",
    "\n",
    "def downloadImages(titles):\n",
    "    for i in range(len(titles)):\n",
    "        url = getTmdbImageUrl(titles[i])\n",
    "        if url is not None:\n",
    "            downloadImageUrl(url, os.path.join(os.getcwd(),\"images\", str(i) + \".jpg\"))\n",
    "        else:\n",
    "            #copy backup to images folder\n",
    "            backup = os.path.join(os.getcwd(),\"images\", \"back_up.jpg\")\n",
    "            shutil.copy(backup, os.path.join(os.getcwd(),\"images\", str(i) + \".jpg\"))\n",
    "            print(\"Unable to find image for:\", i, titles[i])\n",
    "\n",
    "\n",
    "\n",
    "\n",
    "def uploadImages():\n",
    "    browser.get('https://www.warwicksu.com/Controls/AssetUploader/AssetBrowser.aspx?asset_type=event&context_id=4273&file_type=image')\n",
    "    i = 0;\n",
    "    while os.path.exists(os.path.join(os.getcwd(),\"images\", str(i) + \".jpg\")):\n",
    "        browser.find_element(By.ID,'ctl00_cphBodyContent_AssetBrowser_fileAsset').send_keys(os.path.join(os.getcwd(),\"images\", str(i) + \".jpg\"))\n",
    "        browser.find_element(By.ID,\"ctl00_cphBodyContent_AssetBrowser_btnUpload\").click()\n",
    "        i += 1\n",
    "\n",
    "\n",
    "\n",
    "def addToEvent():\n",
    "    browser.get(\"https://www.warwicksu.com/events/edit/4273/\")\n",
    "    input(\"select same range as before\")\n",
    "    events = browser.find_elements(By.CLASS_NAME,'msl_row')\n",
    "    events.extend(browser.find_elements(By.CLASS_NAME,'msl_altrow'))\n",
    "\n",
    "    for (i, event) in enumerate(events):\n",
    "        \n",
    "        url = event.find_element(By.TAG_NAME,'a').get_attribute('href')\n",
    "        #go to href from event and open in new tab\n",
    "        browser.execute_script(\"window.open('');\")\n",
    "        browser.switch_to.window(browser.window_handles[1])\n",
    "        \n",
    "        browser.get(url)\n",
    "        time.sleep(0.1)\n",
    "        browser.find_element(By.ID,'ctl00_Main_saSelectImage_txtFileName').clear()\n",
    "        browser.find_element(By.ID,'ctl00_Main_saSelectImage_txtFileName').send_keys(str(i) + \".jpg\")\n",
    "\n",
    "        #press end key on keyboard\n",
    "        browser.find_element(By.ID,\"ctl00_Main_fsSaveEvent_btnSubmit\").send_keys(Keys.END)\n",
    "\n",
    "        time.sleep(0.3)\n",
    "        browser.find_element(By.ID,\"ctl00_Main_fsSaveEvent_btnSubmit\").click()\n",
    "\n",
    "        #close tab and go back to original\n",
    "        browser.close()\n",
    "        browser.switch_to.window(browser.window_handles[0])\n",
    "        time.sleep(0.5)\n",
    "\n",
    "\n",
    "    \n",
    "    \n",
    "\n",
    "titles = getTitles()\n",
    "downloadImages(titles)\n",
    "uploadImages()\n",
    "addToEvent()\n",
    "\n"
   ]
  },
  {
   "cell_type": "code",
   "execution_count": 30,
   "metadata": {},
   "outputs": [],
   "source": [
    "#event.find_element(By.TAG_NAME,'a').click()\n",
    "#enter text into ctl00_Main_saSelectImage_txtFileName\n",
    "i = 0\n",
    "browser.find_element(By.ID,'ctl00_Main_saSelectImage_txtFileName').send_keys(str(i) + \".jpg\")\n",
    "#scroll down to bottom of page\n",
    "browser.execute_script(\"window.scrollTo(0, document.body.scrollHeight);\")\n",
    "time.sleep(0.5)\n",
    "browser.find_element(By.ID,\"ctl00_Main_fsSaveEvent_btnSubmit\").click()"
   ]
  }
 ],
 "metadata": {
  "kernelspec": {
   "display_name": "Python 2.7.17 64-bit",
   "language": "python",
   "name": "python3"
  },
  "language_info": {
   "codemirror_mode": {
    "name": "ipython",
    "version": 3
   },
   "file_extension": ".py",
   "mimetype": "text/x-python",
   "name": "python",
   "nbconvert_exporter": "python",
   "pygments_lexer": "ipython3",
   "version": "3.8.10"
  },
  "orig_nbformat": 4,
  "vscode": {
   "interpreter": {
    "hash": "767d51c1340bd893661ea55ea3124f6de3c7a262a8b4abca0554b478b1e2ff90"
   }
  }
 },
 "nbformat": 4,
 "nbformat_minor": 2
}
