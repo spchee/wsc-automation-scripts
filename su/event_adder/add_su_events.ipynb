{
 "cells": [
  {
   "cell_type": "code",
   "execution_count": null,
   "metadata": {},
   "outputs": [],
   "source": [
    "#setup\n",
    "from selenium import webdriver\n",
    "from selenium.webdriver.common.by import By\n",
    "import pandas as pd\n",
    "from webdriver_manager.chrome import ChromeDriverManager\n",
    "import time\n",
    "browser  = webdriver.Chrome(ChromeDriverManager().install())"
   ]
  },
  {
   "cell_type": "code",
   "execution_count": null,
   "metadata": {},
   "outputs": [],
   "source": [
    "#open csv\n",
    "df = pd.read_csv('tabula.csv')\n",
    "#delete all columns except date, times, film type, film title\n",
    "df = df[['Date', 'Film', 'Time', 'Time (2nd show)' ,'Film Type']]\n",
    "print(df)\n"
   ]
  },
  {
   "cell_type": "code",
   "execution_count": null,
   "metadata": {},
   "outputs": [],
   "source": [
    "import pickle\n",
    "import os\n",
    "from time import sleep\n",
    "browser.get('https://www.warwicksu.com/events/edit/event/4273/')\n",
    "if os.path.exists('cookies.pkl'):\n",
    "    cookies = pickle.load(open(\"cookies.pkl\", \"rb\"))\n",
    "    print(cookies)\n",
    "    for cookie in cookies:\n",
    "        try:\n",
    "            \n",
    "            browser.add_cookie(cookie)\n",
    "            print(\"valid:\", cookie.keys)\n",
    "        except:\n",
    "            print(cookie.keys)\n",
    "    browser.refresh()\n",
    "    sleep(1)\n",
    "    \n",
    "else:\n",
    "    input(\"Please login then press enter to continue...\")\n",
    "    pickle.dump(browser.get_cookies(), open(\"cookies.pkl\", \"wb\"))"
   ]
  },
  {
   "cell_type": "code",
   "execution_count": null,
   "metadata": {},
   "outputs": [],
   "source": [
    "#loop through each row in the csv\n",
    "from time import sleep\n",
    "from selenium.webdriver.common.keys import Keys\n",
    "from selenium.webdriver.common.by import By\n",
    "\n",
    "def add_su_event(title, date, time, film_type, late = False, early = False):\n",
    "    browser.get('https://www.warwicksu.com/events/edit/event/4273/')\n",
    "\n",
    "    if late:\n",
    "        browser.find_element(By.ID, 'ctl00_Main_txtName_txtTextbox').send_keys(\"Warwick Student Cinema: \" + title + - \" - Late\")\n",
    "    elif early:\n",
    "        browser.find_element(By.ID, 'ctl00_Main_txtName_txtTextbox').send_keys(\"Warwick Student Cinema: \" + title + \" - Early\")\n",
    "    else:\n",
    "        browser.find_element(By.ID, 'ctl00_Main_txtName_txtTextbox').send_keys(\"Warwick Student Cinema: \" + title)\n",
    "\n",
    "    browser.find_element(By.ID, 'ctl00_Main_dateEventDates_txtFromDate').send_keys(date)\n",
    "    browser.find_element(By.ID, 'ctl00_Main_dateEventDates_txtFromTime').send_keys(time)\n",
    "\n",
    "    time2 = str(int(time[0:2]) +2) + time[2:]\n",
    "\n",
    "    browser.find_element(By.ID, 'ctl00_Main_dateEventDates_txtToDate').send_keys(date)\n",
    "    browser.find_element(By.ID, 'ctl00_Main_dateEventDates_txtToTime').send_keys(time2)\n",
    "\n",
    "    tagline = f\"Come see {title} presented \"\n",
    "    if film_type == \"35mm\":\n",
    "        tagline += \"on 35mm film on the big screen in L3!\"\n",
    "    elif film_type == \"DCP\":\n",
    "        tagline += \"with stunning 4K Laser Projection on the big screen in L3!\"\n",
    "    elif  film_type == \"70mm\":\n",
    "        tagline += \"on stunning 70mm film on the big screen in L3!\"\n",
    "    else:\n",
    "        tagline = \"\"\n",
    "\n",
    "    browser.find_element(By.ID, 'ctl00_Main_txtShortDescription_txtTextbox').send_keys(tagline)\n",
    "\n",
    "\n",
    "\n",
    "\n",
    "    browser.find_element(By.ID, 'ctl00_Main_txtLocation_txtTextbox').send_keys('L3')\n",
    "    \n",
    "    browser.find_element(By.TAG_NAME,'html').send_keys(Keys.END)\n",
    "    #scroll up slightly \n",
    "    sleep(0.5)\n",
    "    browser.execute_script(\"window.scrollBy(0, -100)\")\n",
    "    sleep(0.2)\n",
    "    browser.find_element(By.ID, 'cke_13').click()\n",
    "\n",
    "    description = f'<p>{tagline}&nbsp;</p> \\\n",
    "<hr /> \\\n",
    "<p>The Warwick Student Cinema is&nbsp;a fully licensed independent cinema fully run by students. Find out more about us on our <a href=\"https://www.warwicksu.com/societies-sports/societies/filmsoc/\">SU webpage</a> or on <a href=\"http://warwick.film\">our website</a>.</p>'\n",
    "    browser.find_element(By.ID, 'cke_1_contents').find_element(By.TAG_NAME, 'textarea').send_keys(description)\n",
    "    \n",
    "\n",
    "    browser.find_element(By.ID,'ctl00_Main_fsSaveEvent_btnSubmit').click()\n",
    "\n",
    "for index, row in df.iterrows():\n",
    "    if (pd.isna(row['Film'])):\n",
    "        continue\n",
    "    else:\n",
    "        if (not(pd.isna(row['Time (2nd show)']))):\n",
    "            add_su_event(row['Film'], row['Date'], row['Time'], row['Film Type'], early = True)\n",
    "            add_su_event(row['Film'], row['Date'], row['Time (2nd show)'], row['Film Type'], late = True)\n",
    "        else:\n",
    "            add_su_event(row['Film'], row['Date'], row['Time'], row['Film Type'])\n",
    "\n"
   ]
  },
  {
   "cell_type": "code",
   "execution_count": null,
   "metadata": {},
   "outputs": [],
   "source": [
    "from selenium.webdriver.common.keys import Keys\n",
    "\n",
    "\n"
   ]
  },
  {
   "cell_type": "code",
   "execution_count": null,
   "metadata": {},
   "outputs": [],
   "source": [
    "#browser.find_element(By.ID, 'ctl00_Main_dateEventDates_txtToDate').send_keys(\"test\")\n",
    "#browser.switch_to.frame(browser.find_element(By.TAG_NAME,\"iframe\"))\n",
    "#click button with id cke_13\n",
    "\n",
    "browser.switch_to.default_content()\n",
    "browser.find_element(By.ID, 'cke_13').click()\n",
    "#browser.switch_to.frame(browser.find_element(By.TAG_NAME,\"iframe\"))\n",
    "\n",
    "area = browser.find_element(By.ID, 'cke_1_contents').find_element(By.TAG_NAME, 'textarea').send_keys(\"test\")\n",
    "print(area)\n"
   ]
  }
 ],
 "metadata": {
  "kernelspec": {
   "display_name": "Python 3.8.10 64-bit",
   "language": "python",
   "name": "python3"
  },
  "language_info": {
   "codemirror_mode": {
    "name": "ipython",
    "version": 3
   },
   "file_extension": ".py",
   "mimetype": "text/x-python",
   "name": "python",
   "nbconvert_exporter": "python",
   "pygments_lexer": "ipython3",
   "version": "2.7.17"
  },
  "orig_nbformat": 4,
  "vscode": {
   "interpreter": {
    "hash": "767d51c1340bd893661ea55ea3124f6de3c7a262a8b4abca0554b478b1e2ff90"
   }
  }
 },
 "nbformat": 4,
 "nbformat_minor": 2
}
