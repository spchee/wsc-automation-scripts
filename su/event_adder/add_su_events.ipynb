{
 "cells": [
  {
   "cell_type": "code",
   "execution_count": 188,
   "metadata": {},
   "outputs": [
    {
     "name": "stderr",
     "output_type": "stream",
     "text": [
      "/tmp/ipykernel_39961/757504314.py:7: DeprecationWarning: executable_path has been deprecated, please pass in a Service object\n",
      "  browser  = webdriver.Chrome(ChromeDriverManager().install())\n"
     ]
    }
   ],
   "source": [
    "#setup\n",
    "from selenium import webdriver\n",
    "from selenium.webdriver.common.by import By\n",
    "import pandas as pd\n",
    "from webdriver_manager.chrome import ChromeDriverManager\n",
    "import time\n",
    "browser  = webdriver.Chrome(ChromeDriverManager().install())"
   ]
  },
  {
   "cell_type": "code",
   "execution_count": 189,
   "metadata": {},
   "outputs": [
    {
     "name": "stdout",
     "output_type": "stream",
     "text": [
      "          Date   Time Time (2nd show) Film Type    Film\n",
      "0   25/09/2022  19:00           20:00       DCP  Test 1\n",
      "1   25/09/2022  18:00           14:00       DCP  Test 2\n",
      "2   25/09/2022  21:00             NaN       DCP  Test 3\n",
      "3          NaN    NaN             NaN       NaN     NaN\n",
      "4          NaN    NaN             NaN       NaN     NaN\n",
      "5          NaN    NaN             NaN       NaN     NaN\n",
      "6          NaN    NaN             NaN       NaN     NaN\n",
      "7          NaN    NaN             NaN       NaN     NaN\n",
      "8          NaN    NaN             NaN       NaN     NaN\n",
      "9          NaN    NaN             NaN       NaN     NaN\n",
      "10         NaN    NaN             NaN       NaN     NaN\n",
      "11         NaN    NaN             NaN       NaN     NaN\n",
      "12         NaN    NaN             NaN       NaN     NaN\n",
      "13         NaN    NaN             NaN       NaN     NaN\n",
      "14         NaN    NaN             NaN       NaN     NaN\n",
      "15         NaN    NaN             NaN       NaN     NaN\n",
      "16         NaN    NaN             NaN       NaN     NaN\n",
      "17         NaN    NaN             NaN       NaN     NaN\n",
      "18         NaN    NaN             NaN       NaN     NaN\n",
      "19         NaN    NaN             NaN       NaN     NaN\n",
      "20         NaN    NaN             NaN       NaN     NaN\n",
      "21         NaN    NaN             NaN       NaN     NaN\n",
      "22         NaN    NaN             NaN       NaN     NaN\n",
      "23         NaN    NaN             NaN       NaN     NaN\n",
      "24         NaN    NaN             NaN       NaN     NaN\n",
      "25         NaN    NaN             NaN       NaN     NaN\n",
      "26         NaN    NaN             NaN       NaN     NaN\n",
      "27         NaN    NaN             NaN       NaN     NaN\n",
      "28         NaN    NaN             NaN       NaN     NaN\n",
      "29         NaN    NaN             NaN       NaN     NaN\n",
      "30         NaN    NaN             NaN       NaN     NaN\n",
      "31         NaN    NaN             NaN       NaN     NaN\n",
      "32         NaN    NaN             NaN       NaN     NaN\n",
      "33         NaN    NaN             NaN       NaN     NaN\n",
      "34         NaN    NaN             NaN       NaN     NaN\n",
      "35         NaN    NaN             NaN       NaN     NaN\n",
      "36         NaN    NaN             NaN       NaN     NaN\n",
      "37         NaN    NaN             NaN       NaN     NaN\n",
      "38         NaN    NaN             NaN       NaN     NaN\n",
      "39         NaN    NaN             NaN       NaN     NaN\n",
      "40         NaN    NaN             NaN       NaN     NaN\n",
      "41         NaN    NaN             NaN       NaN     NaN\n",
      "42         NaN    NaN             NaN       NaN     NaN\n",
      "43         NaN    NaN             NaN       NaN     NaN\n",
      "44         NaN    NaN             NaN       NaN     NaN\n",
      "45         NaN    NaN             NaN       NaN     NaN\n",
      "46         NaN    NaN             NaN       NaN     NaN\n",
      "47         NaN    NaN             NaN       NaN     NaN\n",
      "48         NaN    NaN             NaN       NaN     NaN\n",
      "49         NaN    NaN             NaN       NaN     NaN\n",
      "50         NaN    NaN             NaN       NaN     NaN\n",
      "51         NaN    NaN             NaN       NaN     NaN\n",
      "52         NaN    NaN             NaN       NaN     NaN\n",
      "53         NaN    NaN             NaN       NaN     NaN\n",
      "54         NaN    NaN             NaN       NaN     NaN\n",
      "55         NaN    NaN             NaN       NaN     NaN\n",
      "56         NaN    NaN             NaN       NaN     NaN\n",
      "57         NaN    NaN             NaN       NaN     NaN\n",
      "58         NaN    NaN             NaN       NaN     NaN\n"
     ]
    }
   ],
   "source": [
    "#open csv\n",
    "df = pd.read_csv('tabula.csv')\n",
    "#delete all columns except date, times, film type, film title\n",
    "df = df[['Date', 'Time', 'Time (2nd show)', 'Film Type', 'Film']]\n",
    "print(df)\n"
   ]
  },
  {
   "cell_type": "code",
   "execution_count": 190,
   "metadata": {},
   "outputs": [
    {
     "name": "stdout",
     "output_type": "stream",
     "text": [
      "[{'domain': 'www.warwicksu.com', 'httpOnly': True, 'name': '.AspNet.SharedCookie', 'path': '/', 'secure': True, 'value': 'CfDJ8JVR4eL4etFPoGRhWTTSBtBijLZWwxlb36q7DzV9zzc3dxIC_6G6IKX3vOLgR9wLYPePc2zfWjQWm_tasWX8hqbiFOJN8zTK9BRn83T9CvQ6Vh38lKQqJSZQqTnTqE5Kj5twGdQJWvizeGauCoTLL6oImZWDVjhOI27CWw7H9-FPBchH6aJERwwlD7ME0DxhycQmGmMWEpSkIsr2t_l-gj8ismRJrwSQqRAmTkmmNYE4gzvQTY28NuDWIw0848s2YjzclAy29vZIYPqZIQjk9mUvcxKqtvHdXmzMd09bS0eJqodU9u7KyaElVr4iiOHl_GznrrRv9Ytm1iYZHO2vrV0AZm8Q3m8KyRxlIVVYq9T_iuuixUeWlkMA_mj6MDFfmeHgAOlT8HbwakjU3SdhbnZcnBlyKsT_3e1VJU7xsh6_mAO4CHW1tgO_0hFZehC6kMYRU2YXGcwO86oZR1Uby1j8bpgGXy925oaGJQY2FdA2f-_wkOMP8-KzFqRfK-4j1pG-2JFekSFNy9YaV4eZQpE'}, {'domain': 'www.warwicksu.com', 'httpOnly': True, 'name': '_shibsession_7761727769636b68747470733a2f2f7777772e7761727769636b73752e636f6d2f73686962626f6c657468', 'path': '/', 'secure': True, 'value': '_ae07812f539fd83ab0a604b3be1c2880'}, {'domain': '.warwicksu.com', 'expiry': 1659913713, 'httpOnly': False, 'name': '_gat', 'path': '/', 'secure': False, 'value': '1'}, {'domain': '.warwicksu.com', 'expiry': 1660000091, 'httpOnly': False, 'name': '_gid', 'path': '/', 'secure': False, 'value': 'GA1.2.1146103997.1659913654'}, {'domain': '.warwicksu.com', 'expiry': 1694473691, 'httpOnly': False, 'name': '_ga', 'path': '/', 'secure': False, 'value': 'GA1.2.1011008453.1659913654'}, {'domain': 'www.warwicksu.com', 'httpOnly': True, 'name': '__AntiXsrfToken', 'path': '/', 'secure': True, 'value': '49781db81f664601bcac28f6359b4472'}, {'domain': 'www.warwicksu.com', 'httpOnly': True, 'name': '.ASPXAUTH', 'path': '/', 'secure': True, 'value': 'DBBC1AC96F814546E02507AD35608E82F3A1996C3475054C96F7DB3A7D8D5FD42333BE47D012193B32E24FF771D584EA717C54DEE6C60F1004312C18A4A4B2D4735EA0FC9889841F7E18348E115192138A5B79AA1561439649FF254B77B9B2A0843D0EA4'}, {'domain': 'www.warwicksu.com', 'httpOnly': True, 'name': 'ASP.NET_SessionId', 'path': '/', 'sameSite': 'Lax', 'secure': True, 'value': 'k140svwhqtau1gtz0p50z2be'}]\n",
      "valid: <built-in method keys of dict object at 0x7fcd86d78d80>\n",
      "valid: <built-in method keys of dict object at 0x7fcd86d78ac0>\n",
      "valid: <built-in method keys of dict object at 0x7fcd86eb5300>\n",
      "valid: <built-in method keys of dict object at 0x7fcd86d78300>\n",
      "valid: <built-in method keys of dict object at 0x7fcd86f50540>\n",
      "valid: <built-in method keys of dict object at 0x7fcd86d67680>\n",
      "valid: <built-in method keys of dict object at 0x7fcd86d78700>\n",
      "valid: <built-in method keys of dict object at 0x7fcd86d78a80>\n"
     ]
    }
   ],
   "source": [
    "import pickle\n",
    "import os\n",
    "from time import sleep\n",
    "browser.get('https://www.warwicksu.com/events/edit/event/4273/')\n",
    "if os.path.exists('cookies.pkl'):\n",
    "    cookies = pickle.load(open(\"cookies.pkl\", \"rb\"))\n",
    "    print(cookies)\n",
    "    for cookie in cookies:\n",
    "        try:\n",
    "            \n",
    "            browser.add_cookie(cookie)\n",
    "            print(\"valid:\", cookie.keys)\n",
    "        except:\n",
    "            print(cookie.keys)\n",
    "    browser.refresh()\n",
    "    sleep(1)\n",
    "    \n",
    "else:\n",
    "    input(\"Please login then press enter to continue...\")\n",
    "    pickle.dump(browser.get_cookies(), open(\"cookies.pkl\", \"wb\"))"
   ]
  },
  {
   "cell_type": "code",
   "execution_count": 196,
   "metadata": {},
   "outputs": [],
   "source": [
    "#loop through each row in the csv\n",
    "from time import sleep\n",
    "from selenium.webdriver.common.keys import Keys\n",
    "from selenium.webdriver.common.by import By\n",
    "def add_su_event(title, date, time, film_type, late = False, early = False):\n",
    "    browser.get('https://www.warwicksu.com/events/edit/event/4273/')\n",
    "\n",
    "    if late:\n",
    "        browser.find_element(By.ID, 'ctl00_Main_txtName_txtTextbox').send_keys(\"Late: \" + title)\n",
    "    elif early:\n",
    "        browser.find_element(By.ID, 'ctl00_Main_txtName_txtTextbox').send_keys(\"Early: \" + title)\n",
    "    else:\n",
    "        browser.find_element(By.ID, 'ctl00_Main_txtName_txtTextbox').send_keys(title)\n",
    "\n",
    "    browser.find_element(By.ID, 'ctl00_Main_dateEventDates_txtFromDate').send_keys(date)\n",
    "    browser.find_element(By.ID, 'ctl00_Main_dateEventDates_txtFromTime').send_keys(time)\n",
    "\n",
    "    time2 = str(int(time[0:2]) +2) + time[2:]\n",
    "\n",
    "    browser.find_element(By.ID, 'ctl00_Main_dateEventDates_txtToDate').send_keys(date)\n",
    "    browser.find_element(By.ID, 'ctl00_Main_dateEventDates_txtToTime').send_keys(time2)\n",
    "\n",
    "    tagline = f\"Come see {title} presented\"\n",
    "    if film_type == \"35mm\":\n",
    "        tagline += \"on 35mm film on the big screen in L3!\"\n",
    "    elif film_type == \"DCP\":\n",
    "        tagline += \"with stunning 4K Laser Projection on the big screen in L3!\"\n",
    "    elif  film_type == \"70mm\":\n",
    "        tagline += \"on stunning 70mm film on the big screen in L3!\"\n",
    "    else:\n",
    "        tagline = \"\"\n",
    "\n",
    "    browser.find_element(By.ID, 'ctl00_Main_txtShortDescription_txtTextbox').send_keys(tagline)\n",
    "    browser.find_element(By.ID, 'ctl00_Main_txtLocation_txtTextbox').send_keys('L3')\n",
    "    browser.switch_to.frame(browser.find_element(By.TAG_NAME,\"iframe\"))\n",
    "    browser.find_element(By.TAG_NAME, 'p').send_keys(tagline)\n",
    "    browser.switch_to.default_content()\n",
    "    \n",
    "\n",
    "    #press end key\n",
    "    browser.find_element(By.TAG_NAME,'html').send_keys(Keys.END)\n",
    "    sleep(0.3)\n",
    "    browser.find_element(By.ID,'ctl00_Main_fsSaveEvent_btnSubmit').click()\n",
    "\n",
    "for index, row in df.iterrows():\n",
    "    if (pd.isna(row['Film'])):\n",
    "        continue\n",
    "    else:\n",
    "        if (not(pd.isna(row['Time (2nd show)']))):\n",
    "            add_su_event(row['Film'], row['Date'], row['Time'], row['Film Type'], early = True)\n",
    "            add_su_event(row['Film'], row['Date'], row['Time (2nd show)'], row['Film Type'], late = True)\n",
    "        else:\n",
    "            add_su_event(row['Film'], row['Date'], row['Time'], row['Film Type'])\n",
    "\n"
   ]
  },
  {
   "cell_type": "code",
   "execution_count": 195,
   "metadata": {},
   "outputs": [],
   "source": [
    "from selenium.webdriver.common.keys import Keys\n",
    "\n",
    "\n"
   ]
  },
  {
   "cell_type": "code",
   "execution_count": null,
   "metadata": {},
   "outputs": [],
   "source": []
  }
 ],
 "metadata": {
  "kernelspec": {
   "display_name": "Python 3.8.10 64-bit",
   "language": "python",
   "name": "python3"
  },
  "language_info": {
   "codemirror_mode": {
    "name": "ipython",
    "version": 3
   },
   "file_extension": ".py",
   "mimetype": "text/x-python",
   "name": "python",
   "nbconvert_exporter": "python",
   "pygments_lexer": "ipython3",
   "version": "3.8.10"
  },
  "orig_nbformat": 4,
  "vscode": {
   "interpreter": {
    "hash": "767d51c1340bd893661ea55ea3124f6de3c7a262a8b4abca0554b478b1e2ff90"
   }
  }
 },
 "nbformat": 4,
 "nbformat_minor": 2
}
